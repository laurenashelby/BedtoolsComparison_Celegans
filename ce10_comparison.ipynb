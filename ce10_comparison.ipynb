{
 "cells": [
  {
   "cell_type": "markdown",
   "metadata": {},
   "source": [
    "Using the Bedtools function to compare C. elegans expression data from fasta files.\n",
    "\n",
    "First, we find out some information about what data the fasta file contains. "
   ]
  },
  {
   "cell_type": "code",
   "execution_count": 1,
   "metadata": {},
   "outputs": [
    {
     "name": "stdout",
     "output_type": "stream",
     "text": [
      ">chrI\n",
      ">chrII\n",
      ">chrIII\n",
      ">chrIV\n",
      ">chrV\n",
      ">chrX\n",
      ">chrM\n",
      "7\n"
     ]
    }
   ],
   "source": [
    "# Retrieving how many chromosomes are in C. elegans and what their names are from the ce10.fa file \n",
    "\n",
    "#Getting the names of each chromosome by searching for the \">\" header delimiter with grep, \n",
    "    #and extracting those values with cut -f 1 from the first column\n",
    "grep '>' ce10.fa | cut -f 1 \n",
    "\n",
    "# Adding to previous code where we got the chromosome names to count the number of those chromosomes with 'wc -l'\n",
    "grep '>' ce10.fa | cut -f 1 | wc -l "
   ]
  },
  {
   "cell_type": "code",
   "execution_count": 2,
   "metadata": {},
   "outputs": [
    {
     "name": "stdout",
     "output_type": "stream",
     "text": [
      "3UTR\n",
      "5UTR\n",
      "CDS\n",
      "exon\n",
      "start_codon\n",
      "stop_codon\n",
      "transcript\n",
      "7\n"
     ]
    }
   ],
   "source": [
    "# Finding how many unique features the 'ce10.refGene.gtf' file has and what their names are \n",
    "\n",
    "# Using cut to extract the third column of the file where the features are, \n",
    "    #sorting by feature using sort, \n",
    "    #isolating the unique features with uniq to display each unique feature\n",
    "cut -f 3 ce10.refGene.gtf | sort | uniq \n",
    "\n",
    "# Using the code above and adding wc -l to count the number of features\n",
    "cut -f 3 ce10.refGene.gtf | sort | uniq | wc -l"
   ]
  },
  {
   "cell_type": "code",
   "execution_count": 3,
   "metadata": {},
   "outputs": [],
   "source": [
    "# Creating a new file 'ce10_UTR.txt' to hold all of the annotated UTRs (5' and 3') from ce10.refGene.gtf\n",
    "touch ce10_UTR.txt \n",
    "\n",
    "# extracting all rows that contain \"UTR\" and moving them to the ce10_UTR.txt file\n",
    "grep 'UTR' ce10.refGene.gtf > ce10_UTR.txt "
   ]
  },
  {
   "cell_type": "code",
   "execution_count": 4,
   "metadata": {},
   "outputs": [
    {
     "name": "stdout",
     "output_type": "stream",
     "text": [
      "51318 ce10_UTR.txt\n",
      "24874\n"
     ]
    }
   ],
   "source": [
    "# Finding how many UTRs are annotated, then how many are 5' UTRs \n",
    "\n",
    "# Getting the number of rows in the ce10_UTR.txt file which is the total annotated UTRs \n",
    "wc -l ce10_UTR.txt \n",
    "\n",
    "# Extracting the rows with 5UTR as a feature and counting those with wc -l\n",
    "grep '5UTR' ce10_UTR.txt | wc -l "
   ]
  },
  {
   "cell_type": "code",
   "execution_count": 6,
   "metadata": {},
   "outputs": [],
   "source": [
    "# Renaming the .tab file to a .bed extension \n",
    "mv ce10_tRNAgenes.tab ce10_tRNAgenes.bed"
   ]
  },
  {
   "cell_type": "code",
   "execution_count": 7,
   "metadata": {},
   "outputs": [],
   "source": [
    "# Creating a new file “ce10_mammalian_limiting_tRNAgenes.bed” that stores the \n",
    "    #tRNA genes that encode for the 4 limiting amono acids\n",
    "# The four limiting aa's are lysine (leu), threonine (thr), methionine (met), and tryptophan (trp)\n",
    "\n",
    "touch ce10_mammalian_limiting_tRNAgenes.bed\n",
    "grep 'Leu' ce10_tRNAgenes.bed > ce10_mammalian_limiting_tRNAgenes.bed\n",
    "grep 'Thr' ce10_tRNAgenes.bed >> ce10_mammalian_limiting_tRNAgenes.bed\n",
    "grep 'Met' ce10_tRNAgenes.bed >> ce10_mammalian_limiting_tRNAgenes.bed\n",
    "grep 'Trp' ce10_tRNAgenes.bed >> ce10_mammalian_limiting_tRNAgenes.bed"
   ]
  },
  {
   "cell_type": "code",
   "execution_count": 8,
   "metadata": {},
   "outputs": [
    {
     "name": "stdout",
     "output_type": "stream",
     "text": [
      "104 ce10_mammalian_limiting_tRNAgenes.bed\n"
     ]
    }
   ],
   "source": [
    "# Finding the number of tRNA genes that encode for the mammalian limiting amino acids \n",
    "\n",
    "# Using wc -l to count the rows in the file which represent the number of genes\n",
    "wc -l ce10_mammalian_limiting_tRNAgenes.bed "
   ]
  },
  {
   "cell_type": "markdown",
   "metadata": {},
   "source": [
    "Now, we load and use the bedtools module to compare and find overlap in C. elegans tRNA genes to C. elegans transcribed genes. "
   ]
  },
  {
   "cell_type": "code",
   "execution_count": 9,
   "metadata": {},
   "outputs": [
    {
     "name": "stdout",
     "output_type": "stream",
     "text": [
      "\n",
      "--------------------------- /share/apps/modulefiles ----------------------------\n",
      "   bedtools/intel/2.29.2\n"
     ]
    }
   ],
   "source": [
    "# Searching for the bedtools module \n",
    "module avail bedtools"
   ]
  },
  {
   "cell_type": "code",
   "execution_count": 11,
   "metadata": {},
   "outputs": [
    {
     "name": "stdout",
     "output_type": "stream",
     "text": [
      "#!/bin/bash\n",
      "#SBATCH --nodes=2\n",
      "#SBATCH --ntasks-per-node=1\n",
      "#SBATCH --cpus-per-task=1\n",
      "#SBATCH --time=1:00:00\n",
      "#SBATCH --mem=2GB\n",
      "#SBATCH --job-name=ce10_tRNA_bedtools\n",
      "\n",
      "# Purging and loading the bedtools module \n",
      "module purge \n",
      "module load bedtools/intel/2.29.2\n",
      "\n",
      "# using 'bedtools intersect -u' to compare ce10_tRNAgenes.bed to ce10_pol2transcribedgenes.bed and put where the two files overlap into ce10_tRNAgenes_Pol2_intersect.bed\n",
      "bedtools intersect -u -a ce10_tRNAgenes.bed -b ce10_pol2transcribedgenes.bed > ce10_tRNAgenes_Pol2_intersect.bed\n"
     ]
    }
   ],
   "source": [
    "# Printing the contents of the sbatch file that loads and properly executes the bedtools function\n",
    "cat tRNAgenes_bedtools.sbatch"
   ]
  },
  {
   "cell_type": "code",
   "execution_count": 12,
   "metadata": {},
   "outputs": [
    {
     "name": "stdout",
     "output_type": "stream",
     "text": [
      "Submitted batch job 43390992\n"
     ]
    }
   ],
   "source": [
    "# Running the sbatch file \n",
    "sbatch tRNAgenes_bedtools.sbatch "
   ]
  },
  {
   "cell_type": "code",
   "execution_count": 13,
   "metadata": {},
   "outputs": [
    {
     "name": "stdout",
     "output_type": "stream",
     "text": [
      "65 ce10_tRNAgenes_Pol2_intersect.bed\n"
     ]
    }
   ],
   "source": [
    "# Finding how many tRNA genes overlap with an RNA Pol II gene  \n",
    "wc -l ce10_tRNAgenes_Pol2_intersect.bed"
   ]
  },
  {
   "cell_type": "code",
   "execution_count": 14,
   "metadata": {},
   "outputs": [
    {
     "name": "stdout",
     "output_type": "stream",
     "text": [
      "9\n"
     ]
    }
   ],
   "source": [
    "# Finding how many of these genes are tRNA that encode for the mammalian limiting amino acids\n",
    "# lysine (leu), threonine (thr), methionine (met), and tryptophan (trp)\n",
    "\n",
    "# Using grep to isolate the rows with the limiting amino acid codes,\n",
    "    #then piping to wc -l to find how many\n",
    "grep 'Leu\\|Thr\\|Met\\|Trp' ce10_tRNAgenes_Pol2_intersect.bed | wc -l "
   ]
  },
  {
   "cell_type": "code",
   "execution_count": null,
   "metadata": {},
   "outputs": [],
   "source": []
  }
 ],
 "metadata": {
  "kernelspec": {
   "display_name": "Bash",
   "language": "bash",
   "name": "bash"
  },
  "language_info": {
   "codemirror_mode": "shell",
   "file_extension": ".sh",
   "mimetype": "text/x-sh",
   "name": "bash"
  }
 },
 "nbformat": 4,
 "nbformat_minor": 4
}
